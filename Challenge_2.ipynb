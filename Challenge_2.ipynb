{
 "cells": [
  {
   "cell_type": "markdown",
   "metadata": {},
   "source": [
    "# [easy] challenge #2\n",
    "\n",
    "---\n",
    "\n",
    "Hello, coders! An important part of programming is being able to apply your programs, so your challenge for today is to create a calculator application that has use in your life. It might be an interest calculator, or it might be something that you can use in the classroom. For example, if you were in physics class, you might want to make a F = M * A calc.\n",
    "\n",
    "EXTRA CREDIT: make the calculator have multiple functions! Not only should it be able to calculate F = M * A, but also A = F/M, and M = F/A!\n",
    "\n",
    "https://www.reddit.com/r/dailyprogrammer/comments/pjbj8/easy_challenge_2/"
   ]
  },
  {
   "cell_type": "code",
   "execution_count": null,
   "metadata": {},
   "outputs": [],
   "source": [
    "# TODO: Come back when you think of a practical use case"
   ]
  },
  {
   "cell_type": "markdown",
   "metadata": {},
   "source": [
    "# [intermediate] challenge #2\n",
    "\n",
    "---\n",
    "\n",
    "create a short text adventure that will call the user by their name. The text adventure should use standard text adventure commands (\"l, n, s, e, i, etc.\").\n",
    "\n",
    "for extra credit, make sure the program doesn't fault, quit, glitch, fail, or loop no matter what is put in, even empty text or spaces. These will be tested rigorously!\n",
    "\n",
    "https://www.reddit.com/r/dailyprogrammer/comments/pjbuj/intermediate_challenge_2/"
   ]
  },
  {
   "cell_type": "code",
   "execution_count": null,
   "metadata": {},
   "outputs": [],
   "source": [
    "# Simple solution: just have a few fixed scenarios and player can only enter a handful of options that have direct consequences\n",
    "# TODO\n",
    "print(\"\")\n",
    "\n",
    "\n",
    "\n",
    "# Complicated soltuion, maybe for another time\n",
    "# Map, Player Inventory/Levels/Items/Location, Indirect consequences of waiting too long etc.\n",
    "# Steps:\n",
    "\n",
    "# What are the possible commands?\n",
    "# Go north, east, south, west\n",
    "\n",
    "# Having a grid or similar structure for the possible positions might be useful, visual presentation for debugging too\n",
    "\n",
    "# Player class that contains information like: \n",
    "# Need to store the location of the player globally\n",
    "# Give player health etc.\n",
    "# Give player inventory or some kind of powerups/levelups and heals\n",
    "\n",
    "\n"
   ]
  },
  {
   "cell_type": "markdown",
   "metadata": {},
   "source": [
    "# [difficult] challenge #2\n",
    "\n",
    "---\n",
    "\n",
    "Your mission is to create a stopwatch program. this program should have start, stop, and lap options, and it should write out to a file to be viewed later.\n",
    "\n",
    "https://www.reddit.com/r/dailyprogrammer/comments/pjsdx/difficult_challenge_2/"
   ]
  },
  {
   "cell_type": "code",
   "execution_count": 5,
   "metadata": {},
   "outputs": [
    {
     "name": "stdout",
     "output_type": "stream",
     "text": [
      "This is a stopwatch program, press any key to start the stopwatch, then press any key again to stop the stopwatch\n",
      "\n",
      "\n",
      "20:47:09.159057\n",
      "20:47:09.625043\n"
     ]
    },
    {
     "ename": "TypeError",
     "evalue": "unsupported operand type(s) for -: 'datetime.time' and 'datetime.time'",
     "output_type": "error",
     "traceback": [
      "\u001b[1;31m---------------------------------------------------------------------------\u001b[0m",
      "\u001b[1;31mTypeError\u001b[0m                                 Traceback (most recent call last)",
      "\u001b[1;32m<ipython-input-5-fa12590ea1be>\u001b[0m in \u001b[0;36m<module>\u001b[1;34m\u001b[0m\n\u001b[0;32m     19\u001b[0m \u001b[1;31m#print(\"Start time was: \" + start)\u001b[0m\u001b[1;33m\u001b[0m\u001b[1;33m\u001b[0m\u001b[1;33m\u001b[0m\u001b[0m\n\u001b[0;32m     20\u001b[0m \u001b[1;31m#print (\"End tiem was: \" + end)\u001b[0m\u001b[1;33m\u001b[0m\u001b[1;33m\u001b[0m\u001b[1;33m\u001b[0m\u001b[0m\n\u001b[1;32m---> 21\u001b[1;33m \u001b[0mprint\u001b[0m \u001b[1;33m(\u001b[0m\u001b[0mstart\u001b[0m \u001b[1;33m-\u001b[0m \u001b[0mend\u001b[0m\u001b[1;33m)\u001b[0m\u001b[1;33m\u001b[0m\u001b[1;33m\u001b[0m\u001b[0m\n\u001b[0m",
      "\u001b[1;31mTypeError\u001b[0m: unsupported operand type(s) for -: 'datetime.time' and 'datetime.time'"
     ]
    }
   ],
   "source": [
    "# TODO: only started this challenge, datetime might not be the best module to use...\n",
    "\n",
    "# import datetime\n",
    "# datetime.datetime.now()\n",
    "\n",
    "from datetime import datetime\n",
    "# time and date\n",
    "# datetime.now()\n",
    "\n",
    "# only time\n",
    "datetime.now().time()\n",
    "\n",
    "print(\"This is a stopwatch program, press any key to start the stopwatch, then press any key again to stop the stopwatch\")\n",
    "input()\n",
    "start = datetime.now().time()\n",
    "input()\n",
    "end = datetime.now().time()\n",
    "\n",
    "print(start)\n",
    "print(end)\n",
    "#print(\"Start time was: \" + start)\n",
    "#print (\"End tiem was: \" + end)\n"
   ]
  },
  {
   "cell_type": "code",
   "execution_count": null,
   "metadata": {},
   "outputs": [],
   "source": []
  }
 ],
 "metadata": {
  "kernelspec": {
   "display_name": "Python 3",
   "language": "python",
   "name": "python3"
  },
  "language_info": {
   "codemirror_mode": {
    "name": "ipython",
    "version": 3
   },
   "file_extension": ".py",
   "mimetype": "text/x-python",
   "name": "python",
   "nbconvert_exporter": "python",
   "pygments_lexer": "ipython3",
   "version": "3.7.4"
  }
 },
 "nbformat": 4,
 "nbformat_minor": 2
}
