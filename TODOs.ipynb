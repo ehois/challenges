{
 "cells": [
  {
   "cell_type": "markdown",
   "metadata": {},
   "source": [
    "These are the challenges or parts of them that got left out or some inetresting additions that could be done:\n",
    "\n",
    "#1\n",
    "\n",
    "Easy: input check could be added\n",
    "\n",
    "Intermediate: not started\n",
    "\n",
    "Difficult: other guess method (not random) could be added\n",
    "\n",
    "#2\n",
    "\n",
    "Easy: not started, think of a calculator use case\n",
    "\n",
    "Intermediate: ideas posted, but not started\n",
    "\n",
    "Difficult: Started messing aroudn with datetime, but not best format, use time instead??\n",
    "\n"
   ]
  },
  {
   "cell_type": "code",
   "execution_count": null,
   "metadata": {},
   "outputs": [],
   "source": []
  }
 ],
 "metadata": {
  "kernelspec": {
   "display_name": "Python 3",
   "language": "python",
   "name": "python3"
  },
  "language_info": {
   "codemirror_mode": {
    "name": "ipython",
    "version": 3
   },
   "file_extension": ".py",
   "mimetype": "text/x-python",
   "name": "python",
   "nbconvert_exporter": "python",
   "pygments_lexer": "ipython3",
   "version": "3.7.4"
  }
 },
 "nbformat": 4,
 "nbformat_minor": 2
}
