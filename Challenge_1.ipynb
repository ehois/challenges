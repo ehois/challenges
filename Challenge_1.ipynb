{
 "cells": [
  {
   "cell_type": "markdown",
   "metadata": {},
   "source": [
    " \n",
    "# [easy] challenge #1\n",
    "\n",
    "---\n",
    "\n",
    "Create a program that will ask the users name, age, and reddit username. Have it tell them the information back, in the format:\n",
    "\n",
    "```\n",
    "your name is (blank), you are (blank) years old, and your username is (blank)\n",
    "```\n",
    "for extra credit, have the program log this information in a file to be accessed later.\n",
    "\n",
    "https://www.reddit.com/r/dailyprogrammer/comments/pih8x/easy_challenge_1/"
   ]
  },
  {
   "cell_type": "code",
   "execution_count": null,
   "metadata": {},
   "outputs": [],
   "source": []
  },
  {
   "cell_type": "markdown",
   "metadata": {},
   "source": [
    "# [intermediate] challenge #1\n",
    "\n",
    "---\n",
    "\n",
    "Create a program that will allow you to enter events organizable by hour. There must be menu options of some form, and you must be able to easily edit, add, and delete events without directly changing the source code.\n",
    "\n",
    "(note that by menu i dont necessarily mean gui. as long as you can easily access the different options and receive prompts and instructions telling you how to use the program, it will probably be fine)\n",
    "\n",
    "https://www.reddit.com/r/dailyprogrammer/comments/pihtx/intermediate_challenge_1/"
   ]
  },
  {
   "cell_type": "code",
   "execution_count": null,
   "metadata": {},
   "outputs": [],
   "source": []
  },
  {
   "cell_type": "markdown",
   "metadata": {},
   "source": [
    "# [difficult] challenge #1\n",
    "\n",
    "--- \n",
    "\n",
    "We all know the classic \"guessing game\" with higher or lower prompts. Lets do a role reversal; you create a program that will guess numbers between 1-100, and respond appropriately based on whether users say that the number is too high or too low. \n",
    "\n",
    "Try to make a program that can guess your number based on user input and great code!\n",
    "\n",
    "https://www.reddit.com/r/dailyprogrammer/comments/pii6j/difficult_challenge_1/"
   ]
  },
  {
   "cell_type": "code",
   "execution_count": null,
   "metadata": {},
   "outputs": [],
   "source": []
  }
 ],
 "metadata": {
  "kernelspec": {
   "display_name": "Python 3",
   "language": "python",
   "name": "python3"
  },
  "language_info": {
   "codemirror_mode": {
    "name": "ipython",
    "version": 3
   },
   "file_extension": ".py",
   "mimetype": "text/x-python",
   "name": "python",
   "nbconvert_exporter": "python",
   "pygments_lexer": "ipython3",
   "version": "3.7.4"
  }
 },
 "nbformat": 4,
 "nbformat_minor": 2
}
