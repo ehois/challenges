{
 "cells": [
  {
   "cell_type": "markdown",
   "metadata": {},
   "source": [
    " \n",
    "# [easy] challenge #1\n",
    "\n",
    "---\n",
    "\n",
    "Create a program that will ask the users name, age, and reddit username. Have it tell them the information back, in the format:\n",
    "\n",
    "```\n",
    "your name is (blank), you are (blank) years old, and your username is (blank)\n",
    "```\n",
    "for extra credit, have the program log this information in a file to be accessed later.\n",
    "\n",
    "https://www.reddit.com/r/dailyprogrammer/comments/pih8x/easy_challenge_1/"
   ]
  },
  {
   "cell_type": "code",
   "execution_count": 13,
   "metadata": {},
   "outputs": [
    {
     "name": "stdout",
     "output_type": "stream",
     "text": [
      "enter your name\n",
      "Frank\n",
      "now your age\n",
      "50\n",
      "what is your username?\n",
      "Frankie\n",
      "your name is Frank , you are 50 years old, and your username is Frankie\n"
     ]
    }
   ],
   "source": [
    "print(\"enter your name\")\n",
    "name = input()\n",
    "print(\"now your age\")\n",
    "age = input()\n",
    "print(\"what is your username?\")\n",
    "user = input()\n",
    "\n",
    "# print with nice formatting %s for strings, %d for numbers\n",
    "print(\"your name is %s , you are %d years old, and your username is %s\" % (name, int(age), user))\n",
    "\n",
    "f = open(\"userdata.txt\",\"w+\")\n",
    "userdata = [name, age, user]\n",
    "for s in userdata:\n",
    "    f.write(s)\n",
    "    f.write(\"\\t\")\n",
    "\n",
    "f.close()\n",
    "\n",
    "# Possible additions: add a check on inputs so it doesnt crash if input is not string/integer etc.\n",
    "\n"
   ]
  },
  {
   "cell_type": "markdown",
   "metadata": {},
   "source": [
    "# [intermediate] challenge #1\n",
    "\n",
    "---\n",
    "\n",
    "Create a program that will allow you to enter events organizable by hour. There must be menu options of some form, and you must be able to easily edit, add, and delete events without directly changing the source code.\n",
    "\n",
    "(note that by menu i dont necessarily mean gui. as long as you can easily access the different options and receive prompts and instructions telling you how to use the program, it will probably be fine)\n",
    "\n",
    "https://www.reddit.com/r/dailyprogrammer/comments/pihtx/intermediate_challenge_1/"
   ]
  },
  {
   "cell_type": "code",
   "execution_count": 14,
   "metadata": {},
   "outputs": [],
   "source": [
    "# TODO: Divide into subtasks and complete them\n",
    "\n",
    "# example solution at http://codepad.org/W3VHFHeE"
   ]
  },
  {
   "cell_type": "markdown",
   "metadata": {},
   "source": [
    "# [difficult] challenge #1\n",
    "\n",
    "--- \n",
    "\n",
    "We all know the classic \"guessing game\" with higher or lower prompts. Lets do a role reversal; you create a program that will guess numbers between 1-100, and respond appropriately based on whether users say that the number is too high or too low. \n",
    "\n",
    "Try to make a program that can guess your number based on user input and great code!\n",
    "\n",
    "https://www.reddit.com/r/dailyprogrammer/comments/pii6j/difficult_challenge_1/"
   ]
  },
  {
   "cell_type": "code",
   "execution_count": 5,
   "metadata": {},
   "outputs": [
    {
     "name": "stdout",
     "output_type": "stream",
     "text": [
      "Think of a number between 1 and 100\n",
      "Press Enter to continue...\n",
      "Now I will try to guess your number...\n",
      "42\n",
      "If my number is too high, please press h, it it's too low, then l, and if it's correct then cl\n",
      "95\n",
      "If my number is too high, please press h, it it's too low, then l, and if it's correct then ch\n",
      "69\n",
      "If my number is too high, please press h, it it's too low, then l, and if it's correct then ch\n",
      "60\n",
      "If my number is too high, please press h, it it's too low, then l, and if it's correct then cc\n",
      "Your number is 60\n"
     ]
    }
   ],
   "source": [
    "import random\n",
    "\n",
    "print(\"Think of a number between 1 and 100\")\n",
    "input(\"Press Enter to continue...\")\n",
    "print(\"Now I will try to guess your number...\")\n",
    "\n",
    "guess = random.randint(1,101)\n",
    "llimit = 1\n",
    "ulimit = 100\n",
    "safe = 5\n",
    "while (safe > 0):\n",
    "    print(guess)\n",
    "    comp = input(\"If my number is too high, please press h, it it's too low, then l, and if it's correct then c\") \n",
    "    if (comp == \"c\"):\n",
    "        print(\"Your number is %d\" %(guess))\n",
    "        break;\n",
    "    elif (comp == \"h\"):\n",
    "        ulimit = guess\n",
    "        guess = random.randint(llimit, ulimit)\n",
    "        \n",
    "    elif (comp == \"l\"):\n",
    "        llimit = guess\n",
    "        guess = random.randint(llimit,ulimit)\n",
    "    else:\n",
    "        print(\"Wrong input, try again\")\n",
    "    safe -= 1\n",
    "    if (safe == 0):\n",
    "        print(\"Too many guesses, game cancelled\")\n",
    "\n",
    "             \n"
   ]
  },
  {
   "cell_type": "code",
   "execution_count": null,
   "metadata": {},
   "outputs": [],
   "source": [
    "# Alternative with other guess method for faster results ?"
   ]
  }
 ],
 "metadata": {
  "kernelspec": {
   "display_name": "Python 3",
   "language": "python",
   "name": "python3"
  },
  "language_info": {
   "codemirror_mode": {
    "name": "ipython",
    "version": 3
   },
   "file_extension": ".py",
   "mimetype": "text/x-python",
   "name": "python",
   "nbconvert_exporter": "python",
   "pygments_lexer": "ipython3",
   "version": "3.7.4"
  }
 },
 "nbformat": 4,
 "nbformat_minor": 2
}
