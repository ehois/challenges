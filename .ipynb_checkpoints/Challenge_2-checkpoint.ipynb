{
 "cells": [
  {
   "cell_type": "markdown",
   "metadata": {},
   "source": [
    "# [easy] challenge #2\n",
    "\n",
    "---\n",
    "\n",
    "Hello, coders! An important part of programming is being able to apply your programs, so your challenge for today is to create a calculator application that has use in your life. It might be an interest calculator, or it might be something that you can use in the classroom. For example, if you were in physics class, you might want to make a F = M * A calc.\n",
    "\n",
    "EXTRA CREDIT: make the calculator have multiple functions! Not only should it be able to calculate F = M * A, but also A = F/M, and M = F/A!\n",
    "\n",
    "https://www.reddit.com/r/dailyprogrammer/comments/pjbj8/easy_challenge_2/"
   ]
  },
  {
   "cell_type": "code",
   "execution_count": null,
   "metadata": {},
   "outputs": [],
   "source": []
  },
  {
   "cell_type": "markdown",
   "metadata": {},
   "source": [
    "# [intermediate] challenge #2\n",
    "\n",
    "---\n",
    "\n",
    "create a short text adventure that will call the user by their name. The text adventure should use standard text adventure commands (\"l, n, s, e, i, etc.\").\n",
    "\n",
    "for extra credit, make sure the program doesn't fault, quit, glitch, fail, or loop no matter what is put in, even empty text or spaces. These will be tested rigorously!\n",
    "\n",
    "https://www.reddit.com/r/dailyprogrammer/comments/pjbuj/intermediate_challenge_2/"
   ]
  },
  {
   "cell_type": "code",
   "execution_count": null,
   "metadata": {},
   "outputs": [],
   "source": []
  },
  {
   "cell_type": "markdown",
   "metadata": {},
   "source": [
    "# [difficult] challenge #2\n",
    "\n",
    "---\n",
    "\n",
    "Your mission is to create a stopwatch program. this program should have start, stop, and lap options, and it should write out to a file to be viewed later.\n",
    "\n",
    "https://www.reddit.com/r/dailyprogrammer/comments/pjsdx/difficult_challenge_2/"
   ]
  },
  {
   "cell_type": "code",
   "execution_count": null,
   "metadata": {},
   "outputs": [],
   "source": []
  }
 ],
 "metadata": {
  "kernelspec": {
   "display_name": "Python 3",
   "language": "python",
   "name": "python3"
  },
  "language_info": {
   "codemirror_mode": {
    "name": "ipython",
    "version": 3
   },
   "file_extension": ".py",
   "mimetype": "text/x-python",
   "name": "python",
   "nbconvert_exporter": "python",
   "pygments_lexer": "ipython3",
   "version": "3.7.4"
  }
 },
 "nbformat": 4,
 "nbformat_minor": 2
}
